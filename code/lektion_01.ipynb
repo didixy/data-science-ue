{
 "cells": [
  {
   "cell_type": "markdown",
   "id": "ef1ba6f7",
   "metadata": {},
   "source": [
    "## Megatutorial 1: Explorative Datenanalyse\n",
    "\n",
    "In diesem Megatutorial beschäftigen wir uns mit der explorativen Datenanalyse in Python.\n",
    "\n",
    "## Aufgaben\n",
    "\n",
    "* Lade die Daten in `pandas`.\n",
    "* Führe eine deskriptive Datenanalyse mit geeigneten, statisches Maßen durch.\n",
    "* Führe eine deskriptive Datenanalyse mit Hilfe von geeigneten Visualisierungen durch."
   ]
  },
  {
   "cell_type": "markdown",
   "id": "2d4b65e5",
   "metadata": {},
   "source": [
    "## Daten in `pandas` laden"
   ]
  },
  {
   "cell_type": "code",
   "execution_count": 9,
   "id": "db0b3535",
   "metadata": {},
   "outputs": [],
   "source": [
    "from pandas import read_csv\n",
    "from matplotlib import pyplot as plt\n",
    "import seaborn as sns"
   ]
  },
  {
   "cell_type": "code",
   "execution_count": 12,
   "id": "6f2512e8",
   "metadata": {},
   "outputs": [],
   "source": [
    "data = read_csv(\"../data/fake_profiles.csv\",\n",
    "                 sep=\",\",\n",
    "                   decimal=\".\",\n",
    "                   usecols=range(1, 13))"
   ]
  },
  {
   "cell_type": "markdown",
   "id": "aa49042d",
   "metadata": {},
   "source": [
    "## Einfache statistische Auswertungen"
   ]
  },
  {
   "cell_type": "code",
   "execution_count": 13,
   "id": "5b0d2897",
   "metadata": {},
   "outputs": [
    {
     "name": "stdout",
     "output_type": "stream",
     "text": [
      "<class 'pandas.core.frame.DataFrame'>\n",
      "RangeIndex: 576 entries, 0 to 575\n",
      "Data columns (total 12 columns):\n",
      " #   Column                         Non-Null Count  Dtype  \n",
      "---  ------                         --------------  -----  \n",
      " 0   profile_pic                    576 non-null    object \n",
      " 1   rel_num_numeric_char_username  576 non-null    float64\n",
      " 2   words_fullname                 576 non-null    int64  \n",
      " 3   rel_num_numeric_char_fullname  576 non-null    float64\n",
      " 4   name=username                  576 non-null    object \n",
      " 5   description_length             576 non-null    int64  \n",
      " 6   has_external_url               576 non-null    object \n",
      " 7   is_private                     576 non-null    object \n",
      " 8   num_posts                      576 non-null    int64  \n",
      " 9   num_followers                  556 non-null    float64\n",
      " 10  num_follows                    576 non-null    int64  \n",
      " 11  is_fake                        576 non-null    object \n",
      "dtypes: float64(3), int64(4), object(5)\n",
      "memory usage: 54.1+ KB\n"
     ]
    }
   ],
   "source": [
    "data.info()"
   ]
  },
  {
   "cell_type": "code",
   "execution_count": 14,
   "id": "3777b5bf",
   "metadata": {},
   "outputs": [
    {
     "data": {
      "text/html": [
       "<div>\n",
       "<style scoped>\n",
       "    .dataframe tbody tr th:only-of-type {\n",
       "        vertical-align: middle;\n",
       "    }\n",
       "\n",
       "    .dataframe tbody tr th {\n",
       "        vertical-align: top;\n",
       "    }\n",
       "\n",
       "    .dataframe thead th {\n",
       "        text-align: right;\n",
       "    }\n",
       "</style>\n",
       "<table border=\"1\" class=\"dataframe\">\n",
       "  <thead>\n",
       "    <tr style=\"text-align: right;\">\n",
       "      <th></th>\n",
       "      <th>rel_num_numeric_char_username</th>\n",
       "      <th>words_fullname</th>\n",
       "      <th>rel_num_numeric_char_fullname</th>\n",
       "      <th>description_length</th>\n",
       "      <th>num_posts</th>\n",
       "      <th>num_followers</th>\n",
       "      <th>num_follows</th>\n",
       "    </tr>\n",
       "  </thead>\n",
       "  <tbody>\n",
       "    <tr>\n",
       "      <th>count</th>\n",
       "      <td>576.000000</td>\n",
       "      <td>576.000000</td>\n",
       "      <td>576.000000</td>\n",
       "      <td>576.000000</td>\n",
       "      <td>576.000000</td>\n",
       "      <td>5.560000e+02</td>\n",
       "      <td>576.000000</td>\n",
       "    </tr>\n",
       "    <tr>\n",
       "      <th>mean</th>\n",
       "      <td>0.163837</td>\n",
       "      <td>1.460069</td>\n",
       "      <td>0.036094</td>\n",
       "      <td>22.623264</td>\n",
       "      <td>107.489583</td>\n",
       "      <td>8.835909e+04</td>\n",
       "      <td>508.381944</td>\n",
       "    </tr>\n",
       "    <tr>\n",
       "      <th>std</th>\n",
       "      <td>0.214096</td>\n",
       "      <td>1.052601</td>\n",
       "      <td>0.125121</td>\n",
       "      <td>37.702987</td>\n",
       "      <td>402.034431</td>\n",
       "      <td>9.262573e+05</td>\n",
       "      <td>917.981239</td>\n",
       "    </tr>\n",
       "    <tr>\n",
       "      <th>min</th>\n",
       "      <td>0.000000</td>\n",
       "      <td>0.000000</td>\n",
       "      <td>0.000000</td>\n",
       "      <td>0.000000</td>\n",
       "      <td>0.000000</td>\n",
       "      <td>0.000000e+00</td>\n",
       "      <td>0.000000</td>\n",
       "    </tr>\n",
       "    <tr>\n",
       "      <th>25%</th>\n",
       "      <td>0.000000</td>\n",
       "      <td>1.000000</td>\n",
       "      <td>0.000000</td>\n",
       "      <td>0.000000</td>\n",
       "      <td>0.000000</td>\n",
       "      <td>3.800000e+01</td>\n",
       "      <td>57.500000</td>\n",
       "    </tr>\n",
       "    <tr>\n",
       "      <th>50%</th>\n",
       "      <td>0.000000</td>\n",
       "      <td>1.000000</td>\n",
       "      <td>0.000000</td>\n",
       "      <td>0.000000</td>\n",
       "      <td>9.000000</td>\n",
       "      <td>1.415000e+02</td>\n",
       "      <td>229.500000</td>\n",
       "    </tr>\n",
       "    <tr>\n",
       "      <th>75%</th>\n",
       "      <td>0.310000</td>\n",
       "      <td>2.000000</td>\n",
       "      <td>0.000000</td>\n",
       "      <td>34.000000</td>\n",
       "      <td>81.500000</td>\n",
       "      <td>7.285000e+02</td>\n",
       "      <td>589.500000</td>\n",
       "    </tr>\n",
       "    <tr>\n",
       "      <th>max</th>\n",
       "      <td>0.920000</td>\n",
       "      <td>12.000000</td>\n",
       "      <td>1.000000</td>\n",
       "      <td>150.000000</td>\n",
       "      <td>7389.000000</td>\n",
       "      <td>1.533854e+07</td>\n",
       "      <td>7500.000000</td>\n",
       "    </tr>\n",
       "  </tbody>\n",
       "</table>\n",
       "</div>"
      ],
      "text/plain": [
       "       rel_num_numeric_char_username  words_fullname  \\\n",
       "count                     576.000000      576.000000   \n",
       "mean                        0.163837        1.460069   \n",
       "std                         0.214096        1.052601   \n",
       "min                         0.000000        0.000000   \n",
       "25%                         0.000000        1.000000   \n",
       "50%                         0.000000        1.000000   \n",
       "75%                         0.310000        2.000000   \n",
       "max                         0.920000       12.000000   \n",
       "\n",
       "       rel_num_numeric_char_fullname  description_length    num_posts  \\\n",
       "count                     576.000000          576.000000   576.000000   \n",
       "mean                        0.036094           22.623264   107.489583   \n",
       "std                         0.125121           37.702987   402.034431   \n",
       "min                         0.000000            0.000000     0.000000   \n",
       "25%                         0.000000            0.000000     0.000000   \n",
       "50%                         0.000000            0.000000     9.000000   \n",
       "75%                         0.000000           34.000000    81.500000   \n",
       "max                         1.000000          150.000000  7389.000000   \n",
       "\n",
       "       num_followers  num_follows  \n",
       "count   5.560000e+02   576.000000  \n",
       "mean    8.835909e+04   508.381944  \n",
       "std     9.262573e+05   917.981239  \n",
       "min     0.000000e+00     0.000000  \n",
       "25%     3.800000e+01    57.500000  \n",
       "50%     1.415000e+02   229.500000  \n",
       "75%     7.285000e+02   589.500000  \n",
       "max     1.533854e+07  7500.000000  "
      ]
     },
     "execution_count": 14,
     "metadata": {},
     "output_type": "execute_result"
    }
   ],
   "source": [
    "data.describe()"
   ]
  },
  {
   "cell_type": "code",
   "execution_count": 17,
   "id": "118b98af",
   "metadata": {},
   "outputs": [
    {
     "data": {
      "text/plain": [
       "np.float64(1.4600694444444444)"
      ]
     },
     "execution_count": 17,
     "metadata": {},
     "output_type": "execute_result"
    }
   ],
   "source": [
    "data[\"words_fullname\"]. mean()"
   ]
  },
  {
   "cell_type": "code",
   "execution_count": 20,
   "id": "f5f2f80a",
   "metadata": {},
   "outputs": [
    {
     "data": {
      "text/plain": [
       "np.float64(1.0526005867227521)"
      ]
     },
     "execution_count": 20,
     "metadata": {},
     "output_type": "execute_result"
    }
   ],
   "source": [
    "data[\"words_fullname\"].std()"
   ]
  },
  {
   "cell_type": "code",
   "execution_count": 23,
   "id": "408eccbc",
   "metadata": {},
   "outputs": [
    {
     "data": {
      "text/plain": [
       "profile_pic\n",
       "yes    404\n",
       "no     172\n",
       "Name: count, dtype: int64"
      ]
     },
     "execution_count": 23,
     "metadata": {},
     "output_type": "execute_result"
    }
   ],
   "source": [
    "data[\"profile_pic\"].value_counts()"
   ]
  },
  {
   "cell_type": "code",
   "execution_count": 34,
   "id": "6d6ef095",
   "metadata": {},
   "outputs": [
    {
     "data": {
      "text/html": [
       "<div>\n",
       "<style scoped>\n",
       "    .dataframe tbody tr th:only-of-type {\n",
       "        vertical-align: middle;\n",
       "    }\n",
       "\n",
       "    .dataframe tbody tr th {\n",
       "        vertical-align: top;\n",
       "    }\n",
       "\n",
       "    .dataframe thead th {\n",
       "        text-align: right;\n",
       "    }\n",
       "</style>\n",
       "<table border=\"1\" class=\"dataframe\">\n",
       "  <thead>\n",
       "    <tr style=\"text-align: right;\">\n",
       "      <th></th>\n",
       "      <th>rel_num_numeric_char_username</th>\n",
       "      <th>words_fullname</th>\n",
       "      <th>rel_num_numeric_char_fullname</th>\n",
       "      <th>description_length</th>\n",
       "      <th>num_posts</th>\n",
       "      <th>num_followers</th>\n",
       "      <th>num_follows</th>\n",
       "    </tr>\n",
       "  </thead>\n",
       "  <tbody>\n",
       "    <tr>\n",
       "      <th>rel_num_numeric_char_username</th>\n",
       "      <td>1.000000</td>\n",
       "      <td>-0.225472</td>\n",
       "      <td>0.408567</td>\n",
       "      <td>-0.321170</td>\n",
       "      <td>-0.157442</td>\n",
       "      <td>-0.063386</td>\n",
       "      <td>-0.172413</td>\n",
       "    </tr>\n",
       "    <tr>\n",
       "      <th>words_fullname</th>\n",
       "      <td>-0.225472</td>\n",
       "      <td>1.000000</td>\n",
       "      <td>-0.094348</td>\n",
       "      <td>0.272522</td>\n",
       "      <td>0.073350</td>\n",
       "      <td>0.033532</td>\n",
       "      <td>0.094855</td>\n",
       "    </tr>\n",
       "    <tr>\n",
       "      <th>rel_num_numeric_char_fullname</th>\n",
       "      <td>0.408567</td>\n",
       "      <td>-0.094348</td>\n",
       "      <td>1.000000</td>\n",
       "      <td>-0.117521</td>\n",
       "      <td>-0.057716</td>\n",
       "      <td>-0.027388</td>\n",
       "      <td>-0.067971</td>\n",
       "    </tr>\n",
       "    <tr>\n",
       "      <th>description_length</th>\n",
       "      <td>-0.321170</td>\n",
       "      <td>0.272522</td>\n",
       "      <td>-0.117521</td>\n",
       "      <td>1.000000</td>\n",
       "      <td>0.144824</td>\n",
       "      <td>0.006369</td>\n",
       "      <td>0.226561</td>\n",
       "    </tr>\n",
       "    <tr>\n",
       "      <th>num_posts</th>\n",
       "      <td>-0.157442</td>\n",
       "      <td>0.073350</td>\n",
       "      <td>-0.057716</td>\n",
       "      <td>0.144824</td>\n",
       "      <td>1.000000</td>\n",
       "      <td>0.325895</td>\n",
       "      <td>0.098225</td>\n",
       "    </tr>\n",
       "    <tr>\n",
       "      <th>num_followers</th>\n",
       "      <td>-0.063386</td>\n",
       "      <td>0.033532</td>\n",
       "      <td>-0.027388</td>\n",
       "      <td>0.006369</td>\n",
       "      <td>0.325895</td>\n",
       "      <td>1.000000</td>\n",
       "      <td>-0.011009</td>\n",
       "    </tr>\n",
       "    <tr>\n",
       "      <th>num_follows</th>\n",
       "      <td>-0.172413</td>\n",
       "      <td>0.094855</td>\n",
       "      <td>-0.067971</td>\n",
       "      <td>0.226561</td>\n",
       "      <td>0.098225</td>\n",
       "      <td>-0.011009</td>\n",
       "      <td>1.000000</td>\n",
       "    </tr>\n",
       "  </tbody>\n",
       "</table>\n",
       "</div>"
      ],
      "text/plain": [
       "                               rel_num_numeric_char_username  words_fullname  \\\n",
       "rel_num_numeric_char_username                       1.000000       -0.225472   \n",
       "words_fullname                                     -0.225472        1.000000   \n",
       "rel_num_numeric_char_fullname                       0.408567       -0.094348   \n",
       "description_length                                 -0.321170        0.272522   \n",
       "num_posts                                          -0.157442        0.073350   \n",
       "num_followers                                      -0.063386        0.033532   \n",
       "num_follows                                        -0.172413        0.094855   \n",
       "\n",
       "                               rel_num_numeric_char_fullname  \\\n",
       "rel_num_numeric_char_username                       0.408567   \n",
       "words_fullname                                     -0.094348   \n",
       "rel_num_numeric_char_fullname                       1.000000   \n",
       "description_length                                 -0.117521   \n",
       "num_posts                                          -0.057716   \n",
       "num_followers                                      -0.027388   \n",
       "num_follows                                        -0.067971   \n",
       "\n",
       "                               description_length  num_posts  num_followers  \\\n",
       "rel_num_numeric_char_username           -0.321170  -0.157442      -0.063386   \n",
       "words_fullname                           0.272522   0.073350       0.033532   \n",
       "rel_num_numeric_char_fullname           -0.117521  -0.057716      -0.027388   \n",
       "description_length                       1.000000   0.144824       0.006369   \n",
       "num_posts                                0.144824   1.000000       0.325895   \n",
       "num_followers                            0.006369   0.325895       1.000000   \n",
       "num_follows                              0.226561   0.098225      -0.011009   \n",
       "\n",
       "                               num_follows  \n",
       "rel_num_numeric_char_username    -0.172413  \n",
       "words_fullname                    0.094855  \n",
       "rel_num_numeric_char_fullname    -0.067971  \n",
       "description_length                0.226561  \n",
       "num_posts                         0.098225  \n",
       "num_followers                    -0.011009  \n",
       "num_follows                       1.000000  "
      ]
     },
     "execution_count": 34,
     "metadata": {},
     "output_type": "execute_result"
    }
   ],
   "source": [
    "data.select_dtypes(include=\"number\").corr()"
   ]
  },
  {
   "cell_type": "code",
   "execution_count": null,
   "id": "7ba1a966",
   "metadata": {},
   "outputs": [],
   "source": []
  }
 ],
 "metadata": {
  "kernelspec": {
   "display_name": "mlenv",
   "language": "python",
   "name": "python3"
  },
  "language_info": {
   "codemirror_mode": {
    "name": "ipython",
    "version": 3
   },
   "file_extension": ".py",
   "mimetype": "text/x-python",
   "name": "python",
   "nbconvert_exporter": "python",
   "pygments_lexer": "ipython3",
   "version": "3.12.1"
  }
 },
 "nbformat": 4,
 "nbformat_minor": 5
}
