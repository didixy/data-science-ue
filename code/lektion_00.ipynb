{
 "cells": [
  {
   "cell_type": "markdown",
   "id": "737b5b7d",
   "metadata": {},
   "source": [
    "#Lektion 0: Einführung in Pandas\n"
   ]
  },
  {
   "cell_type": "code",
   "execution_count": null,
   "id": "21dc9cef",
   "metadata": {},
   "outputs": [],
   "source": [
    "from pandas import read_csv"
   ]
  },
  {
   "cell_type": "code",
   "execution_count": 29,
   "id": "0706f3f1",
   "metadata": {},
   "outputs": [],
   "source": [
    "data = read_csv(\n",
    "    filepath_or_buffer=\"../data/bikesharing.csv\",\n",
    "    sep=\",\", \n",
    "    decimal=\".\"\n",
    "    ) "
   ]
  },
  {
   "cell_type": "code",
   "execution_count": 30,
   "id": "90e52e0f",
   "metadata": {},
   "outputs": [
    {
     "name": "stdout",
     "output_type": "stream",
     "text": [
      "<class 'pandas.core.frame.DataFrame'>\n",
      "RangeIndex: 731 entries, 0 to 730\n",
      "Data columns (total 16 columns):\n",
      " #   Column      Non-Null Count  Dtype  \n",
      "---  ------      --------------  -----  \n",
      " 0   Unnamed: 0  731 non-null    int64  \n",
      " 1   season      731 non-null    object \n",
      " 2   holiday     731 non-null    object \n",
      " 3   weekday     731 non-null    object \n",
      " 4   workingday  731 non-null    object \n",
      " 5   weathersit  731 non-null    object \n",
      " 6   temp        731 non-null    float64\n",
      " 7   atemp       731 non-null    float64\n",
      " 8   hum         698 non-null    float64\n",
      " 9   windspeed   731 non-null    float64\n",
      " 10  casual      731 non-null    int64  \n",
      " 11  registered  731 non-null    int64  \n",
      " 12  cnt         731 non-null    int64  \n",
      " 13  day         731 non-null    int64  \n",
      " 14  month       731 non-null    int64  \n",
      " 15  year        731 non-null    int64  \n",
      "dtypes: float64(4), int64(7), object(5)\n",
      "memory usage: 91.5+ KB\n"
     ]
    }
   ],
   "source": [
    "data.info()\n"
   ]
  }
 ],
 "metadata": {
  "kernelspec": {
   "display_name": "mlenv",
   "language": "python",
   "name": "python3"
  },
  "language_info": {
   "codemirror_mode": {
    "name": "ipython",
    "version": 3
   },
   "file_extension": ".py",
   "mimetype": "text/x-python",
   "name": "python",
   "nbconvert_exporter": "python",
   "pygments_lexer": "ipython3",
   "version": "3.12.1"
  }
 },
 "nbformat": 4,
 "nbformat_minor": 5
}
